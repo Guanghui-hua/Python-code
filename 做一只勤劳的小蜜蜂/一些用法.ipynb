{
 "metadata": {
  "language_info": {
   "codemirror_mode": {
    "name": "ipython",
    "version": 3
   },
   "file_extension": ".py",
   "mimetype": "text/x-python",
   "name": "python",
   "nbconvert_exporter": "python",
   "pygments_lexer": "ipython3",
   "version": "3.7.0"
  },
  "orig_nbformat": 2,
  "kernelspec": {
   "name": "python370jvsc74a57bd0aad7fa43305c5ed1fb127d263f3083b3588cd5af60f171b45496a79879bf8414",
   "display_name": "Python 3.7.0 64-bit ('base': conda)"
  }
 },
 "nbformat": 4,
 "nbformat_minor": 2,
 "cells": [
  {
   "source": [
    "### \\[::n\\]这个n表示步长"
   ],
   "cell_type": "markdown",
   "metadata": {}
  },
  {
   "cell_type": "code",
   "execution_count": 2,
   "metadata": {},
   "outputs": [
    {
     "output_type": "stream",
     "name": "stdout",
     "text": [
      "358\n31\n98754321 \n\ndcba\n"
     ]
    }
   ],
   "source": [
    "num='12345789'\n",
    "\n",
    "print(num[2::2]) #表示从第3个数字开始以步长为2向后取\n",
    "print(num[2::-2])  #表示从第3个数字开始以步长为2向前取\n",
    "print(num[::-1],\"\\n\")  #表示从第1位开始以步长为1向前取，也就是反过来遍历字符串\n",
    "stri='abcdefghijklmn'\n",
    "print(stri[3::-1])"
   ]
  },
  {
   "source": [
    "题目：\n",
    "输入任意字符，让它反过来输出"
   ],
   "cell_type": "markdown",
   "metadata": {}
  },
  {
   "cell_type": "code",
   "execution_count": 4,
   "metadata": {},
   "outputs": [
    {
     "output_type": "stream",
     "name": "stdout",
     "text": [
      "输出： cba9876543210\n"
     ]
    }
   ],
   "source": [
    "\n",
    "num=input('输入：')\n",
    "print('输出：',num[::-1])"
   ]
  },
  {
   "cell_type": "code",
   "execution_count": null,
   "metadata": {},
   "outputs": [],
   "source": []
  }
 ]
}