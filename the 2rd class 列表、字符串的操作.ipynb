{
 "cells": [
  {
   "cell_type": "code",
   "execution_count": null,
   "metadata": {},
   "outputs": [],
   "source": [
    "###$$$$关于python的基础很有用的一些东西\n",
    "#1.列表方法-->count() append() extend([]) reverse() sort()\n",
    "#2.列表函数-->len() max() min() reversed() sorted()\n",
    "#$3.列表推导式 也称作-->列表解析，用于从可迭代对象中进行遍历、过滤或再次计算生成满足条件的新列表\n",
    "#一般表达为[function for value in iterable if condition] 比如 ls=[i*i if i in ls1 if i<3]\n",
    "#4.级联迭代器  itertools.chain\n",
    "#5.字典创建、字典方法------->对元素的频次统计问题，首先要想到利用字典数据类型来解决\n",
    "#6.字符串基本操作  s.split()   'pattern'.join()  s.lower()  s.upper() s.strip() s.\n",
    "#7.Counter对象   用于统计各元素的计数，可以统计列表、字符串、字典    Counter()的element和most_common方法\n",
    "#8.正则表达式   通过re模块中的函数创建和使用正则表达式\n",
    "\n",
    "\n",
    "\n",
    "###这一节里面有三个没见过的东西，分别是 列表推导式、级联迭代器、正则表达式"
   ]
  },
  {
   "cell_type": "code",
   "execution_count": 9,
   "metadata": {},
   "outputs": [
    {
     "name": "stdout",
     "output_type": "stream",
     "text": [
      "sorted()是升序输出 [1, 2, 3, 4, 5, 6, 7, 8, 9]\n",
      "sorted()不改变lst [1, 2, 8, 3, 5, 4, 6, 7, 9]\n",
      "注意仅仅是反向输出，并没有排序 [9, 7, 6, 4, 5, 3, 8, 2, 1]\n",
      "注意反向降序输出 [9, 8, 7, 6, 5, 4, 3, 2, 1]\n",
      "此时lst已经改变了，相当于对lst进行更改 [1, 2, 3, 4, 5, 6, 7, 8, 9]\n",
      "[9, 8, 7, 6, 5, 4, 3, 2, 1]\n"
     ]
    }
   ],
   "source": [
    "#关于列表的排序问题 sort()函数\n",
    "lst=[1,2,8,3,5,4,6,7,9]\n",
    "#第一种方法\n",
    "print('sorted()是升序输出',sorted(lst))        #sorted()是升序输出\n",
    "print ('sorted()不改变lst',lst)               #不改变lst\n",
    "lst2=list(reversed(lst))  #注意仅仅是反向输出，并没有排序\n",
    "print('注意仅仅是反向输出，并没有排序',lst2)\n",
    "lst3=list(reversed(sorted(lst)))\n",
    "print('注意反向降序输出',lst3)              #注意反向降序输出\n",
    "#第二种方法\n",
    "lst.sort()\n",
    "print('此时lst已经改变了，相当于对lst进行更改',lst)               #此时lst已经改变了，相当于对lst进行更改\n",
    "lst.sort(reverse=True)\n",
    "print(lst)"
   ]
  },
  {
   "cell_type": "code",
   "execution_count": 2,
   "metadata": {},
   "outputs": [
    {
     "data": {
      "text/plain": [
       "['a', 'b', 'c', 'e', 'f', 'g']"
      ]
     },
     "execution_count": 2,
     "metadata": {},
     "output_type": "execute_result"
    }
   ],
   "source": [
    "from itertools import chain\n",
    "list(chain(['a','b','c'],['e','f','g']))"
   ]
  },
  {
   "cell_type": "code",
   "execution_count": 5,
   "metadata": {},
   "outputs": [
    {
     "data": {
      "text/plain": [
       "['hgh', ['a', 'b', 'c'], ['e', 'f', 'g']]"
      ]
     },
     "execution_count": 5,
     "metadata": {},
     "output_type": "execute_result"
    }
   ],
   "source": [
    "list(chain(['hgh'],[['a','b','c'],['e','f','g']]))"
   ]
  },
  {
   "cell_type": "code",
   "execution_count": 2,
   "metadata": {},
   "outputs": [
    {
     "data": {
      "text/plain": [
       "['a', 'b', 'c', 'e', 'f', 'g']"
      ]
     },
     "execution_count": 2,
     "metadata": {},
     "output_type": "execute_result"
    }
   ],
   "source": [
    "list(chain.from_iterable([['a','b','c'],['e','f','g']]))"
   ]
  },
  {
   "cell_type": "code",
   "execution_count": 6,
   "metadata": {},
   "outputs": [
    {
     "name": "stdout",
     "output_type": "stream",
     "text": [
      "Counter({'a': 3, 'n': 2, 'b': 1})\n",
      "Counter({'a': 3, 'n': 2, 'b': 1})\n",
      "Counter({'a': 3, 'n': 2, 'b': 1})\n",
      "['b', 'n', 'n', 'a', 'a', 'a']\n",
      "[('a', 3), ('n', 2)]\n"
     ]
    }
   ],
   "source": [
    "#collection.Counter()对象：统计各元素的计数\n",
    "from collections import*\n",
    "c1=Counter('banana')\n",
    "print(c1)\n",
    "c2=Counter(['b','a','n','a','n','a'])\n",
    "print(c2)\n",
    "c3=Counter({'b':1,'n':2,'a':3})\n",
    "print(c3)     ###Counter可作用于列表，元组，字符串\n",
    "print(list(c3.elements()))  #返回元素列表\n",
    "print(c2.most_common(2))    #返回数值最大的n个元素的计数列表"
   ]
  },
  {
   "cell_type": "code",
   "execution_count": 3,
   "metadata": {
    "scrolled": true
   },
   "outputs": [
    {
     "name": "stdout",
     "output_type": "stream",
     "text": [
      "请输入英文单词，首字母大写：The only thing I know is that I know nothing about this world.\n",
      "转换为小写输出为： ['the', 'only', 'thing', 'i', 'know', 'is', 'that', 'i', 'know', 'nothing', 'about', 'this', 'world.']\n",
      "利用for+字典第方法统计输入字母个数 {'t': 7, 'h': 5, 'e': 1, 'o': 6, 'n': 6, 'l': 2, 'y': 1, 'i': 6, 'g': 2, 'k': 2, 'w': 3, 's': 2, 'a': 2, 'b': 1, 'u': 1, 'r': 1, 'd': 1, '.': 1}\n",
      "利用for+字典第方法统计输入单词个数 {'the': 1, 'only': 1, 'thing': 1, 'i': 2, 'know': 2, 'is': 1, 'that': 1, 'nothing': 1, 'about': 1, 'this': 1, 'world.': 1}\n",
      "利用Counter来统计单词个数 Counter({'I': 2, 'know': 2, 'The': 1, 'only': 1, 'thing': 1, 'is': 1, 'that': 1, 'nothing': 1, 'about': 1, 'this': 1, 'world.': 1})\n",
      "利用Counter来统计字母个数 Counter({'t': 7, 'o': 6, 'n': 6, 'i': 6, 'h': 5, 'w': 3, 'l': 2, 'g': 2, 'k': 2, 's': 2, 'a': 2, 'e': 1, 'y': 1, 'b': 1, 'u': 1, 'r': 1, 'd': 1, '.': 1})\n",
      "利用Counter来统计最高词频 [('I', 2), ('know', 2)]\n"
     ]
    }
   ],
   "source": [
    "#ex3-3 编写程序，以空格输入英文单词，首字母大写   要求：英文单词全部转换为小写输出，并统计输入单词中字符的个数\n",
    "#和单取的频数以及频数前2的单词\n",
    "\n",
    "\n",
    "#answer\n",
    "#将单词转换为小写输出\n",
    "s=input('请输入英文单词，首字母大写：')\n",
    "s=s.strip()\n",
    "s1=s.split()\n",
    "s_lower=[words.lower() for words in s1]\n",
    "print('转换为小写输出为：',s_lower)\n",
    "\n",
    "\n",
    "\n",
    "#统计输入单词的字符的个数     ###第二遍看，意思是统计输入字母的个数\n",
    "s2=''.join(s_lower)\n",
    "d={}\n",
    "for c in s2:\n",
    "    d[c]=d.get(c,0)+1\n",
    "print('利用for+字典第方法统计输入字母个数',d)\n",
    "\n",
    "\n",
    "#统计单词的频数\n",
    "e={}\n",
    "for a in s_lower:\n",
    "    e[a]=e.get(a,0)+1\n",
    "print('利用for+字典第方法统计输入单词个数',e)\n",
    "\n",
    "\n",
    "#统计频数前2的单词\n",
    "from collections import*\n",
    "coun=Counter(s1)\n",
    "coun2=Counter(s2)\n",
    "common=coun.most_common(2)  #请注意此处的 d.most_common()应用于d必须为字典，不然无法使用\n",
    "print('利用Counter来统计单词个数',coun)\n",
    "print('利用Counter来统计字母个数',coun2)\n",
    "print('利用Counter来统计最高词频',common)\n",
    "\n",
    "\n",
    "###$得出结论，利用字符串的Counter对象的方法可以实现for+字典的功能，而且简单无重复性，这就是  ‘类’   的方便之处"
   ]
  },
  {
   "cell_type": "code",
   "execution_count": null,
   "metadata": {},
   "outputs": [],
   "source": [
    "###正则表达式  \n",
    "#正则表达式的种类----->\n",
    "#普通字符（直接匹配）\n",
    "#枚举字符集（[xyz]匹配）\n",
    "#否定枚举字符集（[^xyz]）\n",
    "#预定义字符'\\w'等价于[a-z   A-Z   0-9]\n",
    "#预定义字符'\\W'等价于[^a-z  A-Z  0-9]\n",
    "#重复限定符X+（可以匹配X重复的多次）\n",
    "\n",
    "\n",
    "\n",
    "###正则表达式的使用 \n",
    "#通过re模块中的函数创建和使用正则表达式\n",
    "import re                    #为什么不能用 from re import*\n",
    "a='one1two23three345'\n",
    "infos=re.findall('[a-z]+',a)  #re.findall(pattern,string)返回匹配结果的列表\n",
    "print(infos)\n",
    "spinfo=re.split('[0-9]+',a)  #re.split(pattern,string)返回 分割后的字符串 的列表，其中pattern为分隔符模式\n",
    "print(spinfo)\n",
    "subinfo=re.sub('[0-9]+','*',a) #re.sub(pattern,replace,string)pattern代表要替换的字符，replace代表用什么字符替换\n",
    "print(subinfo)\n",
    "\n",
    "\n",
    "s='a very nice day! I am happy!'\n",
    "ss=re.split('\\W+',s)\n",
    "print(ss)   #注意此处的re.split的有一个缺陷\n",
    "ss.remove('')  #关于删除列表有三种方法，del lst(指定位置) & lst.remove(指定字符) &lst.pop(指定位置)\n",
    "print(ss)\n"
   ]
  },
  {
   "cell_type": "code",
   "execution_count": 10,
   "metadata": {
    "scrolled": true
   },
   "outputs": [
    {
     "name": "stdout",
     "output_type": "stream",
     "text": [
      "Emma Woodhouse, handsome, clever, and rich, with a comfortable home\n",
      "and happy disposition, seemed to unite some of the best blessings\n",
      "of existence; and had lived nearly twenty-one years in the world\n",
      "with very little to distress or vex her.\n",
      "\n",
      "She was the youngest of the two daughters of a most affectionate,\n",
      "indulgent father; and had, in consequence of her sister's marriage,\n",
      "been mistress of his house from a very early period.  Her mother\n",
      "had died too long ago for her to have more than an indistinct\n",
      "remembrance of her caresses; and her place had been supplied\n",
      "by an excellent woman as governess, who had fallen little short\n",
      "of a mother in affection.\n",
      "\n",
      "Sixteen years had Miss Taylor been in Mr. Woodhouse's family,\n",
      "less as a governess than a friend, very fond of both daughters,\n",
      "but particularly of Emma.  Between _them_ it was more the intimacy\n",
      "of sisters.  Even before Miss Taylor had ceased to hold the nominal\n",
      "office of governess, the mildness of her temper had hardly allowed\n",
      "her to impose any restraint; and the shadow of authority being\n",
      "now long passed away, they had been living together as friend and\n",
      "friend very mutually attached, and Emma doing just what she liked;\n",
      "highly esteeming Miss Taylor's judgment, but directed chiefly by\n",
      "her own.\n",
      "\n",
      "The real evils, indeed, of Emma's situation were the power of having\n",
      "rather too much her own way, and a disposition to think a little\n",
      "too well of herself; these were the disadvantages which threatened\n",
      "alloy to her many enjoyments.  The danger, however, was at present\n",
      "so unperceived, that they did not by any means rank as misfortunes\n",
      "with her.\n",
      "\n",
      "Sorrow came--a gentle sorrow--but not at all in the shape of any\n",
      "disagreeable consciousness.--Miss Taylor married.  It was Miss\n",
      "Taylor's loss which first brought grief.  It was on the wedding-day\n",
      "of this beloved friend that Emma first sat in mournful thought\n",
      "of any continuance.  The wedding over, and the bride-people gone,\n",
      "her father and herself were left to dine together, with no prospect\n",
      "of a third to cheer a long evening.  Her father composed himself\n",
      "to sleep after dinner, as usual, and she had then only to sit\n",
      "and think of what she had lost.\n",
      "\n",
      "The event had every promise of happiness for her friend.  Mr. Weston\n",
      "was a man of unexceptionable character, easy fortune, suitable age,\n",
      "and pleasant manners; and there was some satisfaction in considering\n",
      "with what self-denying, generous friendship she had always wished\n",
      "and promoted the match; but it was a black morning's work for her.\n",
      "The want of Miss Taylor would be felt every hour of every day.\n",
      "She recalled her past kindness--the kindness, the affection of sixteen\n",
      "years--how she had taught and how she had played with her from five\n",
      "years old--how she had devoted all her powers to attach and amuse\n",
      "her in health--and how nursed her through the various illnesses\n",
      "of childhood.  A large debt of gratitude was owing here; but the\n",
      "intercourse of the last seven years, the equal footing and perfect\n",
      "unreserve which had soon followed Isabella's marriage, on their\n",
      "being left to each other, was yet a dearer, tenderer recollection.\n",
      "She had been a friend and companion such as few possessed: intelligent,\n",
      "well-informed, useful, gentle, knowing all the ways of the family,\n",
      "interested in all its concerns, and peculiarly interested in herself,\n",
      "in every pleasure, every scheme of hers--one to whom she could speak\n",
      "every thought as it arose, and who had such an affection for her\n",
      "as could never find fault.\n",
      "段落数位： 6\n",
      "行数为： 61\n",
      "句子数为： 23\n",
      "单词数为: 607\n",
      "频率前十的单词为： [('of', 32), ('and', 23), ('the', 22), ('her', 20), ('had', 19), ('a', 15), ('to', 14), ('in', 11), ('was', 10), ('as', 8)]\n"
     ]
    }
   ],
   "source": [
    "#综合问题：统计所给text中的段落数、行数、句数、单词数、频次最高的10个单词\n",
    "\n",
    "#导入所需模块\n",
    "import os\n",
    "import re\n",
    "import collections\n",
    "os.chdir(r'd:\\data')\n",
    "#读入文件，去除首位的空白字符，查看\n",
    "with open('corpus_en.txt',encoding='utf-8') as f:\n",
    "    text=f.read()\n",
    "    text=text.strip()\n",
    "print(text)\n",
    "#段落以两个换行间隔，以'\\n\\n'分割字符后，统计段落数\n",
    "paragraph=re.split('\\n\\n',text)\n",
    "paragraph_count=len(paragraph)\n",
    "print('段落数位：',paragraph_count)\n",
    "#每行以一个换行间隔，以'\\n'分割字符串文本，统计行数\n",
    "lines=re.split('\\n',text)\n",
    "line_count=len(lines)\n",
    "print('行数为：',line_count)\n",
    "#句子以.!?三个标点结尾，以[.!?]字符集中任一个分割字符串后，统计句子数\n",
    "sentences=re.split('[.!?]',text)\n",
    "sentence_count=len(sentences)\n",
    "print('句子数为：',sentence_count)\n",
    "#单词之间以非单词字符（空格或者标点）间隔，以'\\W+'分割单词'\n",
    "words=re.split('\\W+',text)\n",
    "word_count=len(words)\n",
    "print('单词数为:',word_count)\n",
    "#以分割后的单词列表生成Counter对象，对元素计数，统计前10个高频词\n",
    "words_freq=collections.Counter(words)\n",
    "top_words_10=words_freq.most_common(10)\n",
    "print('频率前十的单词为：',top_words_10)\n"
   ]
  },
  {
   "cell_type": "code",
   "execution_count": null,
   "metadata": {},
   "outputs": [],
   "source": [
    "#导入所需模块\n",
    "import os\n",
    "import re\n",
    "import collections\n",
    "os.chdir(r'd:\\data')\n",
    "print(text)\n",
    "#读入文件，去除首位的空白字符，查看\n",
    "with open('corpus_en.txt',encoding='utf-8') as f:\n",
    "    text=f.read()\n",
    "    text=text.strip()\n",
    "words=re.split('\\W+',text)\n",
    "words_freq=collections.Counter(words)\n",
    "top_words_10=words_freq.most_common(10)\n",
    "print(top_words_10)\n",
    "        \n"
   ]
  },
  {
   "cell_type": "code",
   "execution_count": null,
   "metadata": {},
   "outputs": [],
   "source": [
    "s=text\n",
    "top_n=10\n",
    "count_topWords(s,top_n)"
   ]
  },
  {
   "cell_type": "code",
   "execution_count": null,
   "metadata": {},
   "outputs": [],
   "source": []
  },
  {
   "cell_type": "code",
   "execution_count": null,
   "metadata": {},
   "outputs": [],
   "source": []
  }
 ],
 "metadata": {
  "kernelspec": {
   "display_name": "Python 3",
   "language": "python",
   "name": "python3"
  },
  "language_info": {
   "codemirror_mode": {
    "name": "ipython",
    "version": 3
   },
   "file_extension": ".py",
   "mimetype": "text/x-python",
   "name": "python",
   "nbconvert_exporter": "python",
   "pygments_lexer": "ipython3",
   "version": "3.7.0"
  }
 },
 "nbformat": 4,
 "nbformat_minor": 2
}