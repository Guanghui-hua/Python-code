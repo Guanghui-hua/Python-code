{
 "cells": [
  {
   "cell_type": "code",
   "execution_count": null,
   "metadata": {},
   "outputs": [],
   "source": [
    "#Python中函数的分类\n",
    " #内置函数： map(), filter(), sorted(),直接使用\n",
    " #用户自定义函数， lambda表达式和匿名函数\n",
    " #标准库函数：如itertools.chain等，先import，再使用\n",
    " #第三方库函数：先下载、安装，然后import，再调用\n"
   ]
  },
  {
   "cell_type": "code",
   "execution_count": 1,
   "metadata": {},
   "outputs": [
    {
     "data": {
      "text/plain": [
       "['a', 'b', '1', '2', '3']"
      ]
     },
     "execution_count": 1,
     "metadata": {},
     "output_type": "execute_result"
    }
   ],
   "source": [
    "list(map(str,['a','b',1,2,3]))  #map()函数 格式： map(func, iterable)   将函数func依次映射到可迭代对象的每个元素上\n",
    "                                #结果返回可迭代对象\n"
   ]
  },
  {
   "cell_type": "code",
   "execution_count": 2,
   "metadata": {},
   "outputs": [
    {
     "data": {
      "text/plain": [
       "['a', 'ab', 'abc']"
      ]
     },
     "execution_count": 2,
     "metadata": {},
     "output_type": "execute_result"
    }
   ],
   "source": [
    "list(filter(len,['','a','ab','abc']))#格式： filter(func, iterable)将函数func应用于iterable的每个元素上\n",
    "                                     #得到返回值是True还是False后，返回为True的元素构成的可迭代对象\n"
   ]
  },
  {
   "cell_type": "code",
   "execution_count": 8,
   "metadata": {},
   "outputs": [
    {
     "data": {
      "text/plain": [
       "['Sunsung', 'Huawei', 'Apple']"
      ]
     },
     "execution_count": 8,
     "metadata": {},
     "output_type": "execute_result"
    }
   ],
   "source": [
    "sorted(['Huawei','Apple','Sunsung'],key=len,reverse=True)  #格式  sorted(iterable, key=None, reverse=False)\n",
    "                                                            #把一个可迭代对象进行排序，返回结果列表，\n",
    "                                                            #key是比较函数，reverse指定是否逆序      \n"
   ]
  },
  {
   "cell_type": "code",
   "execution_count": 42,
   "metadata": {},
   "outputs": [
    {
     "data": {
      "text/plain": [
       "['A', 'B', 'C']"
      ]
     },
     "execution_count": 42,
     "metadata": {},
     "output_type": "execute_result"
    }
   ],
   "source": [
    "#lambda表达式和匿名函数\n",
    " #匿名函数指没有实际名字的函数，使用lambda表达式来创建匿名函数。\n",
    " #适合于处理不再需要在其他位置复用代码，省去函数的定义过程和命名，使代码简洁。\n",
    " #基本格式   lambda arg1, arg2,… : <expression>\n",
    "\n",
    "ls=['A','B','','C',None]\n",
    "list(filter(lambda x: x and x.strip(), ls))      \n"
   ]
  },
  {
   "cell_type": "code",
   "execution_count": 45,
   "metadata": {},
   "outputs": [
    {
     "name": "stdout",
     "output_type": "stream",
     "text": [
      "['s', 'g', 'r', 't', 'i']\n",
      "['S', 'G', 'R', 'T', 'I']\n"
     ]
    }
   ],
   "source": [
    "#由以下可以看出map()和filter()的不同之处，map是直接作用于每一个元素，而filter则是判断完之后若为True返回原迭代值\n",
    "ls1=['S','G','R','T','I']\n",
    "ls2=list(map(lambda x:x.lower(),ls1))\n",
    "print(ls2)\n",
    "ls3=list(filter(lambda x:x.lower(),ls1))\n",
    "print(ls3)\n",
    "                          "
   ]
  },
  {
   "cell_type": "code",
   "execution_count": 4,
   "metadata": {},
   "outputs": [
    {
     "name": "stdout",
     "output_type": "stream",
     "text": [
      "[('of', 3), ('this', 3), ('horatio', 2), ('our', 2), ('and', 2)]\n"
     ]
    }
   ],
   "source": [
    "#ex3_1:  定义函数process_line(s,top_n)，s为任意的英文字符串，实现去除s中的标点字符后，\n",
    "         #统计s中的前n个高频词。调用该函数，传入任意的字符串，\n",
    "         #返回单词及前10个高频词的计数结果。\n",
    "\n",
    "import re\n",
    "from collections import Counter\n",
    "s='''Horatio says 'tis but our fantasy,And will not let belief take hold \n",
    "    of him Touching this dreaded sight, twice seen of us: Therefore I have entreated him\n",
    "    along With us to watch the minutes of this night; That if again this apparition come, \n",
    "    He may approve our eyes and speak to it. HORATIO Tush, tush, 'twill not appear.BERNARDO.\n",
    "    '''\n",
    "\n",
    "s = s.strip()\n",
    "words= re.split(r'\\W+',s)                      #以非字符字符为分隔符分词\n",
    "words=[word.lower() for word in words]        #统一单词为小写\n",
    "words=list(filter(lambda x:x.strip(),words))  #去掉空字符串\n",
    "freq_words = Counter(words)                  #生成Counter对象\n",
    "top_words =freq_words.most_common(5)    #调用counter对象的most_common方法\n",
    "print(top_words)\n"
   ]
  },
  {
   "cell_type": "code",
   "execution_count": 50,
   "metadata": {},
   "outputs": [
    {
     "name": "stdout",
     "output_type": "stream",
     "text": [
      "[('of', 3), ('this', 3), ('horatio', 2)]\n"
     ]
    }
   ],
   "source": [
    "import re\n",
    "from collections import*\n",
    "def process_line(s,top_n):\n",
    "    s = s.strip()\n",
    "    words= re.split(r'\\W+',s)                      #以非字符字符为分隔符分词\n",
    "    words=[word.lower() for word in words]        #统一单词为小写\n",
    "    words=list(filter(lambda x:x.strip(),words))  #去掉空字符串\n",
    "    freq_words = Counter(words)                  #生成Counter对象\n",
    "    top_words =freq_words.most_common(top_n)    #调用counter对象的most_common方法\n",
    "    print(top_words)\n",
    "\n",
    "#主程序\n",
    "n=3\n",
    "ss= '''Horatio says 'tis but our fantasy,And will not let belief take hold \n",
    "    of him Touching this dreaded sight, twice seen of us: Therefore I have entreated him\n",
    "    along With us to watch the minutes of this night; That if again this apparition come, \n",
    "    He may approve our eyes and speak to it. HORATIO Tush, tush, 'twill not appear.BERNARDO.\n",
    "    '''\n",
    "top_Words=process_line(ss,n)\n",
    "\n",
    "    "
   ]
  },
  {
   "cell_type": "code",
   "execution_count": 7,
   "metadata": {},
   "outputs": [
    {
     "name": "stdout",
     "output_type": "stream",
     "text": [
      "段落数为： 6\n",
      "行数为: 61\n",
      "句子数为： 23\n",
      "单词数为： 606\n",
      "频次最高的10个词为 [('of', 32), ('and', 23), ('the', 22), ('her', 20), ('had', 19), ('a', 15), ('to', 14), ('in', 11), ('was', 10), ('as', 8)]\n"
     ]
    }
   ],
   "source": [
    "import os\n",
    "import re\n",
    "import collections\n",
    "\n",
    "os.chdir(r'd:\\data')\n",
    "\n",
    "def count_para(s):   # 统计段落数，补充函数体\n",
    "    paragraph=re.split('\\n\\n',s)\n",
    "    paragraph_count=len(paragraph)                      \n",
    "    return paragraph_count\n",
    "\n",
    "def count_line(s):    # 统计行数，补充函数体\n",
    "    lines=re.split('\\n',s)\n",
    "    line_count=len(lines)\n",
    "    return line_count\n",
    "\n",
    "def count_sent(s):    # 统计句子数，补充函数体\n",
    "    sentences=re.split('[.!?]',s)\n",
    "    sentence_count=len(sentences)\n",
    "    return sentence_count\n",
    "\n",
    "def count_words(s):    # 统计单词数\n",
    "    words=re.split('\\W+',s)\n",
    "    words=list(map(str.lower,words))\n",
    "    words=list(filter(lambda x: x and x.strip(),words))   #####其中的\n",
    "    word_count=len(words)\n",
    "    return word_count\n",
    "\n",
    "def count_topWords(s,top_n):\n",
    "    words=re.split('\\W+',s)\n",
    "    words_freq=collections.Counter(words)\n",
    "    top_words_10=words_freq.most_common(10)\n",
    "    return (top_words_10)   \n",
    "        \n",
    "# 调用上述函数，对file文件统计分析\n",
    "def count_txt(file, top_n):\n",
    "    with open(file,encoding='utf-8') as f:\n",
    "        text = f.read()\n",
    "        text= text.strip()\n",
    "        paras =count_para(text)\n",
    "        lines =count_line(text)\n",
    "        sents =count_sent(text)\n",
    "        words =count_words(text)\n",
    "        top_words = count_topWords(text,top_n)\n",
    "        print('段落数为：',paras    )  #补充\n",
    "        print('行数为:',lines       )  #补充\n",
    "        print('句子数为：',sents    )  #补充\n",
    "        print('单词数为：',words    )  #补充\n",
    "        print('频次最高的10个词为',top_words)  #补充\n",
    "\n",
    "# 主程序\n",
    "text = r'corpus_en.txt'\n",
    "top_n = 10\n",
    "count_txt(text,top_n)\n"
   ]
  },
  {
   "cell_type": "code",
   "execution_count": null,
   "metadata": {},
   "outputs": [],
   "source": []
  }
 ],
 "metadata": {
  "kernelspec": {
   "display_name": "Python 3",
   "language": "python",
   "name": "python3"
  },
  "language_info": {
   "codemirror_mode": {
    "name": "ipython",
    "version": 3
   },
   "file_extension": ".py",
   "mimetype": "text/x-python",
   "name": "python",
   "nbconvert_exporter": "python",
   "pygments_lexer": "ipython3",
   "version": "3.7.0"
  }
 },
 "nbformat": 4,
 "nbformat_minor": 2
}
