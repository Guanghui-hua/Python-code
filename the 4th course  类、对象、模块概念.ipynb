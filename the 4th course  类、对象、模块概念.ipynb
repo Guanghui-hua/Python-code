{
 "cells": [
  {
   "cell_type": "code",
   "execution_count": 1,
   "metadata": {},
   "outputs": [],
   "source": [
    "#本讲主要内容\n",
    "#1.介绍什么是类  --->python一切皆对象，类是一种广义的数据类型，用来定义同一类型的对象\n",
    " #类中包括实例属性和实例方法\n",
    "#2.类的实例\n",
    "#3.模块"
   ]
  },
  {
   "cell_type": "code",
   "execution_count": 3,
   "metadata": {},
   "outputs": [
    {
     "name": "stdout",
     "output_type": "stream",
     "text": [
      "你好，我叫 Liming\n",
      "你好，我今年 19\n"
     ]
    }
   ],
   "source": [
    "class Person:                     #定义了一个类\n",
    "    def __init__(self,name,age):\n",
    "        self.name=name             #self.name和self.age都是实例属性\n",
    "        self.age=age\n",
    "        \n",
    "    def say_hi(self):              #say_hi()是实例方法\n",
    "        print('你好，我叫',self.name)    \n",
    "        print('你好，我今年',self.age)\n",
    "p1=Person('Liming',19)\n",
    "p1.say_hi()"
   ]
  },
  {
   "cell_type": "code",
   "execution_count": 28,
   "metadata": {},
   "outputs": [],
   "source": [
    "import os\n",
    "os.chdir(r'd:\\data')"
   ]
  },
  {
   "cell_type": "code",
   "execution_count": 29,
   "metadata": {},
   "outputs": [],
   "source": [
    "from MyModule import Person"
   ]
  },
  {
   "cell_type": "code",
   "execution_count": 30,
   "metadata": {},
   "outputs": [],
   "source": [
    "p1=Person('Huaguagnhui','21')    #p1是类的一个实例，参数传递时，P1传递给self,'Huaguanghui'传递给name,'21'传递给age"
   ]
  },
  {
   "cell_type": "code",
   "execution_count": 33,
   "metadata": {},
   "outputs": [
    {
     "data": {
      "text/plain": [
       "'Huaguagnhui'"
      ]
     },
     "execution_count": 33,
     "metadata": {},
     "output_type": "execute_result"
    }
   ],
   "source": [
    "p1.name     #访问实例属性"
   ]
  },
  {
   "cell_type": "code",
   "execution_count": 34,
   "metadata": {},
   "outputs": [
    {
     "name": "stdout",
     "output_type": "stream",
     "text": [
      "你好，我叫  Huaguagnhui\n",
      "我今年 21\n"
     ]
    }
   ],
   "source": [
    "p1.say_hi()  #访问实例方法"
   ]
  },
  {
   "cell_type": "code",
   "execution_count": 18,
   "metadata": {},
   "outputs": [],
   "source": [
    "from MyModule import StrHistogram "
   ]
  },
  {
   "cell_type": "code",
   "execution_count": 26,
   "metadata": {},
   "outputs": [
    {
     "data": {
      "text/plain": [
       "[('I', 2), ('like', 2), ('Hello', 1)]"
      ]
     },
     "execution_count": 26,
     "metadata": {},
     "output_type": "execute_result"
    }
   ],
   "source": [
    "s1=StrHistogram('Hello, the world! I like python very much! I like mathmatical')\n",
    "s1.words_count()\n",
    "s1.count_topwords(3)"
   ]
  },
  {
   "cell_type": "code",
   "execution_count": 6,
   "metadata": {},
   "outputs": [],
   "source": [
    "#第4讲主要有三个内容，类，类的实例，模块\n",
    "#Python中一切皆对象，类是用来定义同一类型的对象\n",
    "#类中包括实例属性（拥有某些共同的属性，在类中用变量储存，后面用实例方法来操作数据）和实例方法\n",
    "#类是抽象的，如果使用类定义的功能，必须创建类的实例（类的对象，实例化类，类的实例说法都是等价的），\n",
    "#一个实例是一个具体的对象，例如 p1=Person('huaguanghui',21) 即是对Person这个类创建了一个具体的对象——实例p1，\n",
    "#这个实例后面的两个参数与__init__()self后面的两个参数对应\n",
    "#实例化一个类之后，可以访问实例属性，也可以访问实例方法，见上面的例子\n",
    "#如何创建一个模块，见课件\n",
    "\n",
    "###类（class）与函数（function）的区别：\n",
    "#类（class）：类是面向你对象的，class可以保存一此属性的状态，同时也起到模板的作用，把一些通用的东西写进类定义中，\n",
    "#也就是在'__init__'中。\n",
    "#***class有点像是将多个函数进行功能性封装\n",
    "#函数：函数更像是面向过程编程，更易理解，但是当系统较大时，重复性就会增多。\n",
    "#类（class）与函数（function）的优劣势：\n",
    "#类（class）\t函数（function）\n",
    "#方便复用\t不宜复用，容易出错\n",
    "#方便扩展\t升级、扩展，都十分复杂\n",
    "#方便维护\t不便维护\n",
    "\n",
    " "
   ]
  },
  {
   "cell_type": "code",
   "execution_count": null,
   "metadata": {},
   "outputs": [],
   "source": []
  },
  {
   "cell_type": "code",
   "execution_count": null,
   "metadata": {},
   "outputs": [],
   "source": []
  }
 ],
 "metadata": {
  "kernelspec": {
   "display_name": "Python 3",
   "language": "python",
   "name": "python3"
  },
  "language_info": {
   "codemirror_mode": {
    "name": "ipython",
    "version": 3
   },
   "file_extension": ".py",
   "mimetype": "text/x-python",
   "name": "python",
   "nbconvert_exporter": "python",
   "pygments_lexer": "ipython3",
   "version": "3.7.0"
  }
 },
 "nbformat": 4,
 "nbformat_minor": 2
}